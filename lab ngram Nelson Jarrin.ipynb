{
 "cells": [
  {
   "cell_type": "code",
   "execution_count": 13,
   "id": "aa8c5b4e-0222-4db1-a09e-cc17d2fc933d",
   "metadata": {},
   "outputs": [],
   "source": [
    "n = 2\n",
    "text = great_gatsby"
   ]
  },
  {
   "cell_type": "code",
   "execution_count": 14,
   "id": "18ce00a5-e39c-4368-8356-daba84902fa1",
   "metadata": {},
   "outputs": [],
   "source": [
    "sentences = nltk.sent_tokenize(text)"
   ]
  },
  {
   "cell_type": "code",
   "execution_count": 30,
   "id": "dcbbb872-470a-463c-972e-b2bce9a664d3",
   "metadata": {},
   "outputs": [
    {
     "name": "stdout",
     "output_type": "stream",
     "text": [
      "['reserving', 'judgements', 'is', 'a', 'matter', 'of', 'infinite', 'hope', '.']\n"
     ]
    }
   ],
   "source": [
    "\n",
    "tokenized_sentences = [nltk.word_tokenize(sent) for sent in sentences]\n",
    "\n",
    "tokenized_text = [[word.lower() for word in sent] for sent in tokenized_sentences]\n",
    "\n",
    "print(tokenized_text[5])"
   ]
  },
  {
   "cell_type": "code",
   "execution_count": 31,
   "id": "363ba631-f514-428d-941a-63ec382dfbea",
   "metadata": {},
   "outputs": [
    {
     "name": "stdout",
     "output_type": "stream",
     "text": [
      " Then wear the \n"
     ]
    }
   ],
   "source": [
    "print(text[:15])"
   ]
  },
  {
   "cell_type": "code",
   "execution_count": 17,
   "id": "4a3cf937-e823-496c-b6c8-c36b7147e9c0",
   "metadata": {},
   "outputs": [],
   "source": [
    "train_data, padded_sents = padded_everygram_pipeline(n, tokenized_text)"
   ]
  },
  {
   "cell_type": "code",
   "execution_count": 18,
   "id": "19bd5cd9-22c3-4c65-9d4b-e6d84d3db063",
   "metadata": {},
   "outputs": [],
   "source": [
    "from nltk.lm import MLE\n",
    "\n",
    "lm = MLE(n)"
   ]
  },
  {
   "cell_type": "code",
   "execution_count": 19,
   "id": "29771c82-ca02-4461-b88a-c82181edd0d7",
   "metadata": {},
   "outputs": [
    {
     "data": {
      "text/plain": [
       "0"
      ]
     },
     "execution_count": 19,
     "metadata": {},
     "output_type": "execute_result"
    }
   ],
   "source": [
    "len(lm.vocab)"
   ]
  },
  {
   "cell_type": "code",
   "execution_count": 20,
   "id": "e5a83be1-4a37-4ca2-b7a5-dde0d823da59",
   "metadata": {},
   "outputs": [
    {
     "data": {
      "text/plain": [
       "6953"
      ]
     },
     "execution_count": 20,
     "metadata": {},
     "output_type": "execute_result"
    }
   ],
   "source": [
    "lm.fit(train_data, padded_sents)\n",
    "len(lm.vocab)"
   ]
  },
  {
   "cell_type": "code",
   "execution_count": 32,
   "id": "3334b087-f93f-488a-a577-3b4adf13a0d3",
   "metadata": {},
   "outputs": [
    {
     "name": "stdout",
     "output_type": "stream",
     "text": [
      "('reserving', 'judgements', 'is', 'a', 'matter', 'of', 'infinite', 'hope', '.')\n"
     ]
    }
   ],
   "source": [
    "print(lm.vocab.lookup(tokenized_text[5]))"
   ]
  },
  {
   "cell_type": "code",
   "execution_count": 33,
   "id": "9221d2df-f9fc-4246-81b4-bd93b2bcac32",
   "metadata": {},
   "outputs": [
    {
     "name": "stdout",
     "output_type": "stream",
     "text": [
      "('reserving', 'judgements', 'is', 'a', 'matter', 'of', 'infinite', '<UNK>', '.')\n"
     ]
    }
   ],
   "source": [
    "print(lm.vocab.lookup('reserving judgements is a matter of infinite playstation .'.split()))"
   ]
  },
  {
   "cell_type": "code",
   "execution_count": 34,
   "id": "9264aa13-3ee2-403a-9c95-7026622d1da7",
   "metadata": {},
   "outputs": [
    {
     "name": "stdout",
     "output_type": "stream",
     "text": [
      "25\n"
     ]
    }
   ],
   "source": [
    "print(lm.counts['home'])"
   ]
  },
  {
   "cell_type": "code",
   "execution_count": 35,
   "id": "ac4d4e36-2f57-436a-b591-71857ad65806",
   "metadata": {},
   "outputs": [
    {
     "data": {
      "text/plain": [
       "0.0003626920454380595"
      ]
     },
     "execution_count": 35,
     "metadata": {},
     "output_type": "execute_result"
    }
   ],
   "source": [
    "lm.score('home')"
   ]
  },
  {
   "cell_type": "code",
   "execution_count": 36,
   "id": "5cc79c11-a7cc-4879-845c-857b1f4c1ba0",
   "metadata": {},
   "outputs": [
    {
     "name": "stdout",
     "output_type": "stream",
     "text": [
      "2\n"
     ]
    },
    {
     "data": {
      "text/plain": [
       "0.08"
      ]
     },
     "execution_count": 36,
     "metadata": {},
     "output_type": "execute_result"
    }
   ],
   "source": [
    "print(lm.counts[['home']]['and'])\n",
    "lm.score('and', 'home'.split())"
   ]
  },
  {
   "cell_type": "code",
   "execution_count": 26,
   "id": "956aaba3-c944-4994-a340-e0871a783f02",
   "metadata": {},
   "outputs": [
    {
     "data": {
      "text/plain": [
       "0.0"
      ]
     },
     "execution_count": 26,
     "metadata": {},
     "output_type": "execute_result"
    }
   ],
   "source": [
    "lm.score(\"<UNK>\")"
   ]
  },
  {
   "cell_type": "code",
   "execution_count": 44,
   "id": "e4b1f7ff-bc0e-4d01-b94e-4080ec43d771",
   "metadata": {},
   "outputs": [
    {
     "name": "stdout",
     "output_type": "stream",
     "text": [
      "['in', 'england', 'who', 'gives', 'large', 'uncertain', 'dancing', 'individually', 'or', 'a', 'cricket', 'bat', 'in', 'half', 'a', 'word', 'or']\n"
     ]
    }
   ],
   "source": [
    "print(lm.generate(17, text_seed= 'home', random_seed=50))"
   ]
  },
  {
   "cell_type": "code",
   "execution_count": 45,
   "id": "9353b104-42aa-40fa-b701-8b9ddc30f4ef",
   "metadata": {},
   "outputs": [],
   "source": [
    "from nltk.tokenize.treebank import TreebankWordDetokenizer\n",
    "\n",
    "detokenize = TreebankWordDetokenizer().detokenize\n",
    "\n",
    "def generate_sent(lm, num_words, text_seed, random_seed=42):\n",
    "    \"\"\"\n",
    "    :param model: An ngram language model from `nltk.lm.model`.\n",
    "    :param num_words: Max no. of words to generate.\n",
    "    :param random_seed: Seed value for random.\n",
    "    \"\"\"\n",
    "    content = []\n",
    "    for token in lm.generate(num_words, text_seed=text_seed, random_seed=random_seed):\n",
    "        if token == '<s>':\n",
    "            continue\n",
    "        if token == '</s>':\n",
    "            break\n",
    "        content.append(token)\n",
    "    return detokenize(content)"
   ]
  },
  {
   "cell_type": "code",
   "execution_count": 46,
   "id": "86e9307f-1cdd-4f6d-83a2-f4be3495645c",
   "metadata": {},
   "outputs": [
    {
     "data": {
      "text/plain": [
       "'in england who gives large uncertain dancing individually or a cricket bat in half a word or'"
      ]
     },
     "execution_count": 46,
     "metadata": {},
     "output_type": "execute_result"
    }
   ],
   "source": [
    "generate_sent(lm, 17, text_seed='home', random_seed = 50)"
   ]
  },
  {
   "cell_type": "code",
   "execution_count": null,
   "id": "8a2a97ca-20fb-425d-b0c3-ec0f9e23c0c1",
   "metadata": {},
   "outputs": [],
   "source": []
  }
 ],
 "metadata": {
  "kernelspec": {
   "display_name": "Python 3 (ipykernel)",
   "language": "python",
   "name": "python3"
  },
  "language_info": {
   "codemirror_mode": {
    "name": "ipython",
    "version": 3
   },
   "file_extension": ".py",
   "mimetype": "text/x-python",
   "name": "python",
   "nbconvert_exporter": "python",
   "pygments_lexer": "ipython3",
   "version": "3.9.2"
  }
 },
 "nbformat": 4,
 "nbformat_minor": 5
}
